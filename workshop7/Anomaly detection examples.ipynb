{
 "cells": [
  {
   "cell_type": "markdown",
   "metadata": {},
   "source": [
    "Let's look at how we can use various anomaly detection methods to label anomalies in the Iris data set. The Iris data set has class labels, but we aren't going to use those. "
   ]
  },
  {
   "cell_type": "code",
   "execution_count": 79,
   "metadata": {},
   "outputs": [],
   "source": [
    "from sklearn.datasets import make_blobs\n",
    "X, y = make_blobs(n_samples = 1000, centers=3, cluster_std=1, random_state=6)"
   ]
  },
  {
   "cell_type": "code",
   "execution_count": 80,
   "metadata": {},
   "outputs": [
    {
     "data": {
      "text/plain": [
       "array([[ 9.06884898, -1.45922636],\n",
       "       [-8.93801138,  1.62898166],\n",
       "       [-8.24977749,  3.08834103],\n",
       "       ...,\n",
       "       [-8.83820162,  2.80370711],\n",
       "       [ 7.67647531, -2.97933366],\n",
       "       [-6.41447081,  3.23540733]])"
      ]
     },
     "execution_count": 80,
     "metadata": {},
     "output_type": "execute_result"
    }
   ],
   "source": [
    "X"
   ]
  },
  {
   "cell_type": "code",
   "execution_count": 81,
   "metadata": {},
   "outputs": [
    {
     "data": {
      "text/plain": [
       "<matplotlib.collections.PathCollection at 0x7f97bf13f278>"
      ]
     },
     "execution_count": 81,
     "metadata": {},
     "output_type": "execute_result"
    },
    {
     "data": {
      "image/png": "[encoded data removed]",
      "text/plain": [
       "<Figure size 432x288 with 1 Axes>"
      ]
     },
     "metadata": {
      "needs_background": "light"
     },
     "output_type": "display_data"
    }
   ],
   "source": [
    "import matplotlib.pyplot as plt\n",
    "plt.scatter(X[:,0],X[:,1])"
   ]
  },
  {
   "cell_type": "code",
   "execution_count": 82,
   "metadata": {},
   "outputs": [
    {
     "data": {
      "text/plain": [
       "(1000, 2)"
      ]
     },
     "execution_count": 82,
     "metadata": {},
     "output_type": "execute_result"
    }
   ],
   "source": [
    "X.shape"
   ]
  },
  {
   "cell_type": "markdown",
   "metadata": {},
   "source": [
    "We need to determine the number of neighbors to use for each point with the n_neighbors parameter. fit_predict will return labels for each data instance, indicating whether or not a point is an anomaly. Labels of 1 indicate normal instances (also sometimes called \"inliers\"), and -1's indicate anomalies (also sometimes called \"outliers\")"
   ]
  },
  {
   "cell_type": "code",
   "execution_count": 93,
   "metadata": {},
   "outputs": [
    {
     "name": "stdout",
     "output_type": "stream",
     "text": [
      "[ 1  1  1  1  1  1  1  1  1  1  1  1  1  1  1  1  1  1  1  1  1  1  1  1\n",
      "  1  1  1  1  1  1  1  1  1  1  1  1  1  1  1  1  1  1  1  1  1  1  1  1\n",
      "  1  1  1  1  1  1  1  1  1  1  1 -1  1  1  1  1  1  1  1  1  1  1  1  1\n",
      "  1  1  1  1  1  1  1  1 -1 -1  1  1  1  1  1  1  1  1  1  1  1  1  1  1\n",
      "  1  1  1  1  1  1  1  1  1  1  1  1  1  1  1  1  1  1  1  1  1  1  1  1\n",
      " -1  1  1  1  1  1  1  1  1  1  1 -1  1  1  1  1  1  1  1  1  1  1  1  1\n",
      "  1  1  1  1  1  1  1  1  1  1  1  1  1  1  1  1  1  1  1  1  1  1  1  1\n",
      "  1  1  1  1  1 -1  1  1  1  1  1  1  1  1  1  1  1  1 -1  1  1  1  1  1\n",
      "  1  1  1  1  1  1  1  1  1  1  1  1  1  1  1  1  1  1  1  1  1  1  1  1\n",
      "  1  1  1  1  1  1  1  1  1  1  1  1  1  1  1 -1  1  1 -1  1  1  1  1  1\n",
      "  1  1  1  1 -1  1  1  1  1 -1  1 -1  1  1  1  1  1  1  1  1  1  1  1  1\n",
      "  1  1  1  1  1  1  1  1  1  1  1  1  1  1  1  1  1  1  1  1  1  1 -1  1\n",
      "  1  1  1  1  1  1  1  1  1  1  1  1  1  1  1  1  1  1  1  1  1  1  1 -1\n",
      "  1  1  1  1  1  1  1  1  1  1  1  1  1  1  1  1  1  1  1  1  1  1  1 -1\n",
      "  1  1  1  1  1  1 -1  1  1  1  1  1  1  1  1 -1  1  1  1  1  1  1  1  1\n",
      "  1  1  1  1  1  1  1  1  1  1  1  1  1  1  1  1  1  1  1  1  1  1  1  1\n",
      "  1  1  1  1  1  1  1  1  1  1  1  1  1  1  1 -1  1  1  1  1  1  1  1 -1\n",
      "  1  1  1  1  1  1  1  1  1  1  1  1  1  1  1  1  1  1  1  1  1  1  1  1\n",
      "  1  1  1  1  1  1  1  1  1  1  1  1  1  1  1  1  1  1  1  1  1  1  1  1\n",
      "  1  1  1  1  1  1  1  1  1  1  1  1  1  1  1  1  1  1  1  1  1  1  1  1\n",
      "  1  1  1  1  1  1  1  1  1  1 -1  1  1  1  1  1  1  1  1  1  1  1  1  1\n",
      "  1  1  1  1  1  1  1  1  1  1  1  1  1  1  1  1  1  1  1  1  1  1  1  1\n",
      "  1  1  1  1  1  1  1  1  1  1  1  1  1  1  1  1  1  1  1  1  1  1  1  1\n",
      "  1  1  1  1  1  1  1  1  1  1 -1 -1  1  1  1  1 -1  1  1  1  1  1  1  1\n",
      "  1  1  1  1  1  1  1  1  1  1  1  1  1  1  1  1  1  1  1  1  1  1  1  1\n",
      " -1  1  1  1  1  1  1  1  1 -1  1  1  1  1  1  1  1  1  1  1  1  1  1  1\n",
      "  1  1  1  1  1  1  1  1  1  1  1  1  1  1  1  1  1  1  1  1  1  1  1  1\n",
      "  1  1  1  1  1  1  1  1  1  1  1  1  1  1  1  1 -1  1  1  1  1  1  1  1\n",
      "  1  1  1  1  1  1  1  1  1  1  1  1 -1  1  1  1  1  1  1  1  1  1  1  1\n",
      "  1  1  1  1  1  1  1  1  1  1  1  1  1  1  1  1  1  1  1  1  1  1  1  1\n",
      "  1  1  1  1  1  1  1  1  1  1  1  1  1  1  1  1  1  1  1  1  1  1 -1  1\n",
      "  1  1  1  1  1  1  1  1  1  1  1  1  1  1  1  1  1  1  1  1  1  1  1  1\n",
      "  1  1  1  1  1  1  1  1  1  1  1  1  1  1  1  1  1  1  1  1  1  1  1  1\n",
      "  1  1  1  1  1  1  1  1  1  1  1  1  1  1  1  1  1  1  1  1  1  1  1  1\n",
      "  1  1  1  1  1  1  1 -1  1  1  1  1  1  1  1  1  1  1  1  1  1  1  1  1\n",
      "  1  1  1  1  1  1  1  1  1  1  1  1  1  1  1  1  1  1  1  1  1  1  1  1\n",
      "  1  1  1  1  1  1  1  1  1  1  1  1  1  1  1  1  1  1  1  1  1  1  1  1\n",
      "  1  1  1  1  1  1  1  1  1  1  1  1  1  1  1  1  1  1  1  1  1  1  1  1\n",
      "  1  1  1  1  1  1  1  1  1  1  1  1  1  1  1  1  1  1  1  1  1  1  1  1\n",
      "  1 -1  1  1  1  1  1  1  1  1  1  1  1  1 -1  1  1  1  1  1  1  1  1  1\n",
      "  1  1  1  1  1  1  1  1  1  1  1  1  1  1  1  1  1  1  1  1  1  1  1  1\n",
      "  1  1  1  1  1 -1  1  1  1  1  1  1  1  1  1  1]\n"
     ]
    }
   ],
   "source": [
    "from sklearn.neighbors import LocalOutlierFactor\n",
    "lof = LocalOutlierFactor(n_neighbors = 10)\n",
    "lof_predictions = lof.fit_predict(X)\n",
    "print(lof_predictions)"
   ]
  },
  {
   "cell_type": "markdown",
   "metadata": {},
   "source": [
    "The output above tells us that the first row (first data instance) in X is not an anomaly, neither is the second, etc... We see a -1 in the 21st  position, which tells us the 21st row in X (with index 20) is predicted to be an outlier by LOF."
   ]
  },
  {
   "cell_type": "code",
   "execution_count": 94,
   "metadata": {},
   "outputs": [
    {
     "name": "stdout",
     "output_type": "stream",
     "text": [
      "32\n"
     ]
    }
   ],
   "source": [
    "print(sum(lof_predictions==-1))"
   ]
  },
  {
   "cell_type": "code",
   "execution_count": 95,
   "metadata": {},
   "outputs": [
    {
     "name": "stdout",
     "output_type": "stream",
     "text": [
      "[-1  1  1  1 -1  1  1  1 -1  1 -1 -1  1 -1  1 -1  1 -1  1  1  1 -1 -1  1\n",
      "  1 -1  1  1 -1  1 -1 -1 -1 -1  1  1  1  1 -1  1  1  1  1 -1  1 -1  1  1\n",
      " -1  1  1 -1  1 -1 -1  1  1 -1  1 -1 -1  1  1  1 -1  1  1 -1  1 -1  1  1\n",
      "  1 -1  1  1  1  1 -1  1 -1 -1 -1  1 -1 -1  1 -1  1  1  1  1  1 -1 -1  1\n",
      "  1  1 -1  1  1  1  1  1  1 -1 -1  1  1  1  1  1  1  1  1  1  1 -1  1  1\n",
      "  1  1  1  1 -1  1  1  1  1  1  1 -1  1  1  1  1  1  1  1  1  1  1  1  1\n",
      " -1  1  1  1 -1  1  1  1  1  1  1 -1  1 -1  1  1 -1  1  1  1  1  1  1  1\n",
      "  1  1  1  1 -1 -1 -1 -1 -1  1  1  1 -1  1 -1 -1 -1  1 -1  1  1  1  1 -1\n",
      "  1  1  1  1 -1  1 -1  1  1  1  1  1  1  1  1  1  1  1 -1  1  1  1 -1  1\n",
      "  1  1  1  1  1  1 -1 -1  1  1 -1  1  1  1 -1 -1  1 -1 -1 -1  1 -1  1  1\n",
      "  1  1  1  1 -1  1  1  1 -1  1  1 -1  1 -1  1  1 -1  1 -1  1 -1 -1  1  1\n",
      "  1 -1 -1  1  1  1  1 -1  1  1  1 -1  1 -1  1  1  1  1 -1 -1 -1  1 -1  1\n",
      "  1 -1 -1  1  1  1 -1  1  1  1 -1  1  1  1  1  1 -1  1  1  1  1 -1 -1 -1\n",
      " -1 -1  1 -1 -1  1 -1 -1  1  1  1  1  1 -1  1  1  1 -1  1 -1  1  1  1 -1\n",
      "  1  1  1 -1 -1  1 -1 -1 -1  1  1  1 -1  1 -1 -1  1 -1  1  1  1  1 -1  1\n",
      "  1  1  1  1  1  1  1 -1  1  1  1  1  1 -1  1  1  1  1  1  1  1 -1  1  1\n",
      " -1  1  1  1  1  1 -1  1  1  1  1  1  1  1 -1 -1  1 -1  1  1  1  1  1 -1\n",
      "  1  1 -1  1  1  1  1  1  1  1  1  1  1  1  1  1  1  1  1 -1  1 -1 -1  1\n",
      "  1  1  1  1  1  1  1  1  1  1  1  1  1  1 -1  1 -1 -1  1  1 -1 -1  1  1\n",
      " -1  1  1  1  1  1 -1  1  1  1 -1 -1 -1  1  1  1  1  1  1 -1  1  1 -1  1\n",
      " -1  1  1  1 -1  1 -1  1  1 -1 -1 -1 -1 -1  1 -1  1 -1  1  1 -1  1  1  1\n",
      "  1  1  1 -1  1  1  1  1 -1  1  1  1  1 -1  1 -1 -1  1 -1 -1  1  1 -1  1\n",
      " -1 -1  1  1  1  1  1 -1  1  1  1 -1  1  1  1  1  1  1  1  1  1 -1  1  1\n",
      "  1  1  1  1 -1  1  1  1  1  1 -1 -1  1 -1  1  1 -1  1  1  1 -1  1 -1  1\n",
      "  1 -1  1  1  1  1  1  1 -1 -1  1  1 -1  1  1  1  1  1  1  1  1  1  1  1\n",
      " -1 -1 -1  1  1  1  1  1  1 -1 -1  1  1  1 -1  1 -1  1  1  1  1  1  1 -1\n",
      "  1  1  1 -1  1  1  1  1 -1 -1  1  1  1  1  1  1  1  1  1  1  1 -1  1  1\n",
      "  1  1  1 -1  1 -1  1  1  1  1  1 -1  1 -1 -1  1 -1  1  1  1  1  1  1 -1\n",
      "  1  1  1 -1  1  1  1  1  1 -1  1 -1 -1  1  1  1  1  1  1  1 -1  1  1  1\n",
      "  1  1  1  1  1  1  1  1 -1  1 -1  1 -1  1  1 -1 -1 -1  1  1 -1  1  1  1\n",
      "  1  1  1  1  1  1  1 -1  1  1  1  1  1 -1  1  1  1  1  1  1  1  1 -1 -1\n",
      "  1  1  1  1  1  1  1  1  1 -1  1  1  1  1  1  1  1  1  1  1  1  1  1 -1\n",
      " -1 -1  1  1  1  1  1  1  1  1  1  1  1  1  1  1 -1  1 -1 -1 -1  1  1 -1\n",
      "  1  1  1 -1  1  1 -1  1  1  1  1  1  1 -1  1  1 -1  1  1 -1 -1  1 -1  1\n",
      "  1  1 -1  1  1  1  1 -1 -1  1 -1  1  1  1  1  1 -1 -1  1  1 -1  1  1 -1\n",
      "  1  1 -1 -1  1 -1  1  1  1  1  1 -1  1 -1 -1  1 -1  1 -1  1  1  1  1  1\n",
      "  1  1  1 -1  1  1  1  1  1  1 -1  1  1 -1 -1  1 -1 -1  1  1  1  1  1  1\n",
      "  1 -1  1  1 -1 -1 -1  1  1  1  1  1  1 -1  1  1  1  1  1 -1 -1  1 -1  1\n",
      "  1  1  1  1  1  1 -1  1  1  1 -1  1 -1  1  1  1  1  1  1  1  1  1  1  1\n",
      "  1 -1  1  1  1  1  1  1  1 -1  1 -1  1  1 -1 -1  1 -1 -1  1  1 -1  1  1\n",
      "  1  1  1  1  1  1  1 -1  1  1  1 -1  1  1  1 -1  1  1  1 -1  1  1  1 -1\n",
      "  1  1  1  1  1 -1  1  1  1  1  1  1 -1 -1  1 -1]\n"
     ]
    }
   ],
   "source": [
    "from sklearn.ensemble import IsolationForest\n",
    "iforest_predictions = IsolationForest(random_state=0).fit_predict(X)\n",
    "print(iforest_predictions)"
   ]
  },
  {
   "cell_type": "code",
   "execution_count": 96,
   "metadata": {},
   "outputs": [
    {
     "name": "stdout",
     "output_type": "stream",
     "text": [
      "280\n"
     ]
    }
   ],
   "source": [
    "print(sum(iforest_predictions==-1))"
   ]
  },
  {
   "cell_type": "code",
   "execution_count": 97,
   "metadata": {},
   "outputs": [
    {
     "name": "stdout",
     "output_type": "stream",
     "text": [
      "[-1  1  1 -1 -1  1  1 -1 -1  1 -1 -1 -1 -1  1 -1  1 -1 -1  1  1 -1 -1  1\n",
      "  1 -1  1  1 -1  1 -1 -1 -1 -1  1 -1  1 -1 -1  1  1  1  1 -1  1 -1 -1  1\n",
      " -1 -1 -1 -1  1 -1 -1 -1 -1 -1 -1 -1 -1 -1 -1  1 -1  1 -1 -1 -1 -1 -1  1\n",
      " -1 -1  1  1  1 -1 -1  1 -1 -1 -1 -1 -1 -1 -1 -1  1 -1 -1 -1  1 -1 -1  1\n",
      "  1  1 -1 -1 -1  1 -1  1  1 -1 -1  1  1 -1  1  1  1  1  1  1  1 -1 -1 -1\n",
      " -1  1 -1 -1 -1  1 -1 -1  1  1  1 -1  1  1  1  1 -1  1 -1  1  1  1  1  1\n",
      " -1  1  1  1 -1  1  1  1  1  1  1 -1  1 -1  1  1 -1  1  1 -1  1  1 -1  1\n",
      "  1  1 -1  1 -1 -1 -1 -1 -1  1  1  1 -1  1 -1 -1 -1  1 -1  1  1  1 -1 -1\n",
      "  1  1 -1  1 -1  1 -1  1  1 -1  1  1  1  1  1  1  1  1 -1  1  1  1 -1  1\n",
      "  1  1 -1  1 -1 -1 -1 -1  1  1 -1  1 -1 -1 -1 -1  1 -1 -1 -1 -1 -1  1  1\n",
      "  1  1  1  1 -1 -1 -1 -1 -1 -1  1 -1  1 -1  1  1 -1 -1 -1 -1 -1 -1  1 -1\n",
      "  1 -1 -1  1 -1  1  1 -1 -1  1 -1 -1  1 -1 -1  1  1  1 -1 -1 -1  1 -1 -1\n",
      "  1 -1 -1  1  1  1 -1  1  1  1 -1 -1 -1 -1 -1 -1 -1  1  1 -1  1 -1 -1 -1\n",
      " -1 -1  1 -1 -1 -1 -1 -1  1  1  1  1  1 -1  1  1 -1 -1  1 -1  1  1  1 -1\n",
      "  1  1  1 -1 -1  1 -1 -1 -1  1  1 -1 -1  1 -1 -1  1 -1  1  1 -1  1 -1 -1\n",
      "  1 -1  1  1 -1  1  1 -1  1  1  1  1 -1 -1  1  1  1  1  1 -1 -1 -1 -1  1\n",
      " -1  1  1  1  1  1 -1  1  1  1  1 -1 -1  1 -1 -1  1 -1  1  1  1 -1  1 -1\n",
      "  1 -1 -1  1  1  1  1  1  1 -1  1 -1 -1  1  1 -1 -1  1  1 -1  1 -1 -1  1\n",
      " -1  1  1  1  1  1  1  1  1  1 -1  1  1  1 -1  1 -1 -1  1 -1 -1 -1  1  1\n",
      " -1  1  1  1  1  1 -1  1  1  1 -1 -1 -1  1  1 -1  1  1  1 -1  1  1 -1  1\n",
      " -1  1  1  1 -1 -1 -1 -1 -1 -1 -1 -1 -1 -1 -1 -1  1 -1  1  1 -1 -1  1 -1\n",
      "  1  1 -1 -1 -1  1  1  1 -1  1 -1  1 -1 -1 -1 -1 -1 -1 -1 -1  1  1 -1 -1\n",
      " -1 -1  1  1 -1  1  1 -1  1  1 -1 -1 -1 -1  1  1  1  1 -1  1  1 -1  1  1\n",
      " -1  1 -1 -1 -1  1  1  1  1 -1 -1 -1 -1 -1  1  1 -1  1  1 -1 -1  1 -1 -1\n",
      "  1 -1 -1  1  1 -1 -1 -1 -1 -1  1  1 -1 -1  1  1 -1  1  1 -1  1  1  1 -1\n",
      " -1 -1 -1 -1  1  1  1  1  1 -1 -1 -1 -1 -1 -1  1 -1  1  1  1  1  1  1 -1\n",
      "  1  1  1 -1  1  1  1 -1 -1 -1  1 -1 -1  1  1 -1  1 -1 -1 -1  1 -1  1  1\n",
      " -1  1  1 -1  1 -1  1  1  1  1  1 -1  1 -1 -1  1 -1 -1  1  1  1 -1  1 -1\n",
      "  1 -1  1 -1 -1 -1  1  1  1 -1 -1 -1 -1  1  1  1  1  1 -1 -1 -1  1  1 -1\n",
      "  1  1 -1 -1  1  1  1  1 -1  1 -1  1 -1  1 -1 -1 -1 -1 -1 -1 -1 -1  1 -1\n",
      "  1 -1 -1  1  1  1  1 -1  1  1  1 -1 -1 -1 -1  1  1 -1  1  1 -1  1 -1 -1\n",
      " -1  1  1 -1 -1 -1  1  1  1 -1 -1  1  1  1  1  1  1 -1  1 -1  1  1  1 -1\n",
      " -1 -1  1  1 -1  1  1  1 -1  1 -1 -1  1  1  1  1 -1  1 -1 -1 -1  1  1 -1\n",
      " -1  1 -1 -1  1  1 -1 -1  1 -1  1  1  1 -1  1  1 -1 -1  1 -1 -1 -1 -1 -1\n",
      "  1 -1 -1  1  1  1 -1 -1 -1 -1 -1  1  1  1  1 -1 -1 -1 -1  1 -1 -1 -1 -1\n",
      "  1  1 -1 -1  1 -1  1  1  1  1 -1 -1  1 -1 -1  1 -1  1 -1 -1  1  1  1 -1\n",
      "  1 -1  1 -1  1  1 -1  1 -1 -1 -1 -1  1 -1 -1 -1 -1 -1  1 -1  1 -1 -1 -1\n",
      " -1 -1  1  1 -1 -1 -1  1  1  1  1  1  1 -1  1 -1  1 -1  1 -1 -1  1 -1  1\n",
      "  1 -1  1 -1  1  1 -1  1  1 -1 -1  1 -1  1  1 -1 -1  1  1  1  1 -1  1  1\n",
      "  1 -1  1  1  1  1  1  1 -1 -1 -1 -1 -1  1 -1 -1  1 -1 -1  1  1 -1  1  1\n",
      " -1  1 -1  1 -1 -1 -1 -1  1 -1  1 -1 -1  1 -1 -1  1 -1 -1 -1 -1  1  1 -1\n",
      "  1  1  1 -1  1 -1  1  1  1  1 -1  1 -1 -1  1 -1]\n"
     ]
    }
   ],
   "source": [
    "from sklearn.svm import OneClassSVM\n",
    "ocsvm_predictions = OneClassSVM(gamma='auto').fit_predict(X)\n",
    "print(ocsvm_predictions)"
   ]
  },
  {
   "cell_type": "code",
   "execution_count": 98,
   "metadata": {},
   "outputs": [
    {
     "name": "stdout",
     "output_type": "stream",
     "text": [
      "502\n"
     ]
    }
   ],
   "source": [
    "print(sum(ocsvm_predictions==-1))"
   ]
  },
  {
   "cell_type": "code",
   "execution_count": 99,
   "metadata": {},
   "outputs": [
    {
     "data": {
      "text/plain": [
       "<matplotlib.collections.PathCollection at 0x7f97bdfc5e80>"
      ]
     },
     "execution_count": 99,
     "metadata": {},
     "output_type": "execute_result"
    },
    {
     "data": {
      "image/png": "[encoded data removed]",
      "text/plain": [
       "<Figure size 432x288 with 1 Axes>"
      ]
     },
     "metadata": {
      "needs_background": "light"
     },
     "output_type": "display_data"
    }
   ],
   "source": [
    "plt.scatter(X[lof_predictions==1,0],X[lof_predictions==1,1])\n",
    "plt.scatter(X[lof_predictions==-1,0],X[lof_predictions==-1,1],c='r')"
   ]
  },
  {
   "cell_type": "code",
   "execution_count": 100,
   "metadata": {},
   "outputs": [
    {
     "data": {
      "text/plain": [
       "<matplotlib.collections.PathCollection at 0x7f97be3c76a0>"
      ]
     },
     "execution_count": 100,
     "metadata": {},
     "output_type": "execute_result"
    },
    {
     "data": {
      "image/png": "[encoded data removed]",
      "text/plain": [
       "<Figure size 432x288 with 1 Axes>"
      ]
     },
     "metadata": {
      "needs_background": "light"
     },
     "output_type": "display_data"
    }
   ],
   "source": [
    "plt.scatter(X[iforest_predictions==1,0],X[iforest_predictions==1,1])\n",
    "plt.scatter(X[iforest_predictions==-1,0],X[iforest_predictions==-1,1],c='r')"
   ]
  },
  {
   "cell_type": "code",
   "execution_count": 101,
   "metadata": {},
   "outputs": [
    {
     "data": {
      "text/plain": [
       "<matplotlib.collections.PathCollection at 0x7f97be47da90>"
      ]
     },
     "execution_count": 101,
     "metadata": {},
     "output_type": "execute_result"
    },
    {
     "data": {
      "image/png": "[encoded data removed]",
      "text/plain": [
       "<Figure size 432x288 with 1 Axes>"
      ]
     },
     "metadata": {
      "needs_background": "light"
     },
     "output_type": "display_data"
    }
   ],
   "source": [
    "plt.scatter(X[ocsvm_predictions==1,0],X[ocsvm_predictions==1,1])\n",
    "plt.scatter(X[ocsvm_predictions==-1,0],X[ocsvm_predictions==-1,1],c='r')"
   ]
  },
  {
   "cell_type": "code",
   "execution_count": 107,
   "metadata": {},
   "outputs": [],
   "source": [
    "from sklearn.datasets import load_iris\n",
    "iris_data = load_iris()"
   ]
  },
  {
   "cell_type": "code",
   "execution_count": 108,
   "metadata": {},
   "outputs": [],
   "source": [
    "X = iris_data['data']"
   ]
  },
  {
   "cell_type": "code",
   "execution_count": null,
   "metadata": {},
   "outputs": [],
   "source": []
  },
  {
   "cell_type": "code",
   "execution_count": 111,
   "metadata": {},
   "outputs": [],
   "source": [
    "from sklearn.decomposition import PCA\n",
    "pca = PCA(n_components=2)\n",
    "pca_transformed_X = pca.fit_transform(X)\n",
    "lof = LocalOutlierFactor(n_neighbors = 10)\n",
    "lof_predictions = lof.fit_predict(X)"
   ]
  },
  {
   "cell_type": "code",
   "execution_count": 112,
   "metadata": {},
   "outputs": [
    {
     "data": {
      "text/plain": [
       "<matplotlib.collections.PathCollection at 0x7f97bf42bac8>"
      ]
     },
     "execution_count": 112,
     "metadata": {},
     "output_type": "execute_result"
    },
    {
     "data": {
      "image/png": "[encoded data removed]",
      "text/plain": [
       "<Figure size 432x288 with 1 Axes>"
      ]
     },
     "metadata": {
      "needs_background": "light"
     },
     "output_type": "display_data"
    }
   ],
   "source": [
    "import matplotlib.pyplot as plt\n",
    "plt.scatter(pca_transformed_X[lof_predictions==1,0],pca_transformed_X[lof_predictions==1,1])\n",
    "plt.scatter(pca_transformed_X[lof_predictions==-1,0],pca_transformed_X[lof_predictions==-1,1],c='r')"
   ]
  },
  {
   "cell_type": "code",
   "execution_count": 114,
   "metadata": {},
   "outputs": [],
   "source": [
    "lof = LocalOutlierFactor(n_neighbors = 5)\n",
    "pca2_lof_predictions = lof.fit_predict(pca_transformed_X)"
   ]
  },
  {
   "cell_type": "code",
   "execution_count": 115,
   "metadata": {},
   "outputs": [
    {
     "data": {
      "text/plain": [
       "<matplotlib.collections.PathCollection at 0x7f97bf4917b8>"
      ]
     },
     "execution_count": 115,
     "metadata": {},
     "output_type": "execute_result"
    },
    {
     "data": {
      "image/png": "[encoded data removed]",
      "text/plain": [
       "<Figure size 432x288 with 1 Axes>"
      ]
     },
     "metadata": {
      "needs_background": "light"
     },
     "output_type": "display_data"
    }
   ],
   "source": [
    "plt.scatter(pca_transformed_X[pca2_lof_predictions==1,0],pca_transformed_X[pca2_lof_predictions==1,1])\n",
    "plt.scatter(pca_transformed_X[pca2_lof_predictions==-1,0],pca_transformed_X[pca2_lof_predictions==-1,1],c='r')"
   ]
  },
  {
   "cell_type": "code",
   "execution_count": 116,
   "metadata": {},
   "outputs": [],
   "source": [
    "iforest_predictions = IsolationForest(random_state=0).fit_predict(X)"
   ]
  },
  {
   "cell_type": "code",
   "execution_count": 117,
   "metadata": {},
   "outputs": [
    {
     "data": {
      "text/plain": [
       "<matplotlib.collections.PathCollection at 0x7f97bf5d0470>"
      ]
     },
     "execution_count": 117,
     "metadata": {},
     "output_type": "execute_result"
    },
    {
     "data": {
      "image/png": "[encoded data removed]",
      "text/plain": [
       "<Figure size 432x288 with 1 Axes>"
      ]
     },
     "metadata": {
      "needs_background": "light"
     },
     "output_type": "display_data"
    }
   ],
   "source": [
    "plt.scatter(pca_transformed_X[iforest_predictions==1,0],pca_transformed_X[iforest_predictions==1,1])\n",
    "plt.scatter(pca_transformed_X[iforest_predictions==-1,0],pca_transformed_X[iforest_predictions==-1,1],c='r')"
   ]
  },
  {
   "cell_type": "code",
   "execution_count": 118,
   "metadata": {},
   "outputs": [
    {
     "data": {
      "text/plain": [
       "<matplotlib.collections.PathCollection at 0x7f97bf6372b0>"
      ]
     },
     "execution_count": 118,
     "metadata": {},
     "output_type": "execute_result"
    },
    {
     "data": {
      "image/png": "[encoded data removed]",
      "text/plain": [
       "<Figure size 432x288 with 1 Axes>"
      ]
     },
     "metadata": {
      "needs_background": "light"
     },
     "output_type": "display_data"
    }
   ],
   "source": [
    "pca2_iforest_predictions = IsolationForest(random_state=0).fit_predict(pca_transformed_X)\n",
    "plt.scatter(pca_transformed_X[pca2_iforest_predictions==1,0],pca_transformed_X[pca2_iforest_predictions==1,1])\n",
    "plt.scatter(pca_transformed_X[pca2_iforest_predictions==-1,0],pca_transformed_X[pca2_iforest_predictions==-1,1],c='r')"
   ]
  },
  {
   "cell_type": "code",
   "execution_count": 119,
   "metadata": {},
   "outputs": [],
   "source": [
    "ocsvm_predictions = OneClassSVM(gamma='auto').fit_predict(X)"
   ]
  },
  {
   "cell_type": "code",
   "execution_count": 120,
   "metadata": {},
   "outputs": [
    {
     "data": {
      "text/plain": [
       "<matplotlib.collections.PathCollection at 0x7f97bf6b0f98>"
      ]
     },
     "execution_count": 120,
     "metadata": {},
     "output_type": "execute_result"
    },
    {
     "data": {
      "image/png": "[encoded data removed]",
      "text/plain": [
       "<Figure size 432x288 with 1 Axes>"
      ]
     },
     "metadata": {
      "needs_background": "light"
     },
     "output_type": "display_data"
    }
   ],
   "source": [
    "plt.scatter(pca_transformed_X[ocsvm_predictions==1,0],pca_transformed_X[ocsvm_predictions==1,1])\n",
    "plt.scatter(pca_transformed_X[ocsvm_predictions==-1,0],pca_transformed_X[ocsvm_predictions==-1,1],c='r')"
   ]
  },
  {
   "cell_type": "code",
   "execution_count": 121,
   "metadata": {},
   "outputs": [
    {
     "data": {
      "text/plain": [
       "<matplotlib.collections.PathCollection at 0x7f97c0864c50>"
      ]
     },
     "execution_count": 121,
     "metadata": {},
     "output_type": "execute_result"
    },
    {
     "data": {
      "image/png": "[encoded data removed]",
      "text/plain": [
       "<Figure size 432x288 with 1 Axes>"
      ]
     },
     "metadata": {
      "needs_background": "light"
     },
     "output_type": "display_data"
    }
   ],
   "source": [
    "import matplotlib.pyplot as plt\n",
    "plt.scatter(X[anomaly_predictions==1,1],X[anomaly_predictions==1,2])\n",
    "plt.scatter(X[anomaly_predictions==-1,1],X[anomaly_predictions==-1,2],c='r')"
   ]
  },
  {
   "cell_type": "code",
   "execution_count": null,
   "metadata": {},
   "outputs": [],
   "source": []
  },
  {
   "cell_type": "markdown",
   "metadata": {},
   "source": [
    "We can also print out the negative of the local outlier factor score. Since the convention is label anomalies with a -1 label, sklearn will tell us the negative of the local outlier factor of each data instance instead of the positive value (remember that the higher the LOF, the more anomalous a point is considered)."
   ]
  },
  {
   "cell_type": "code",
   "execution_count": 122,
   "metadata": {},
   "outputs": [
    {
     "name": "stdout",
     "output_type": "stream",
     "text": [
      "[-0.94522713 -0.97396211 -1.14267587 -1.05439633 -1.01156066 -1.42001743\n",
      " -1.10135083 -1.16928638 -1.58540966 -0.95221411 -1.05507042 -1.01127346\n",
      " -1.03412093 -1.73610975 -1.27068576 -1.48994478 -1.31327848 -0.97148868\n",
      " -1.76403525 -1.01907183 -1.36091452 -0.99149738 -2.79619273 -1.30026371\n",
      " -1.22394328 -1.15752278 -1.20679217 -0.9363314  -0.98305663 -0.96509773\n",
      " -1.02851935 -1.20083073 -1.34876884 -1.16509196 -0.96178956 -1.29640924\n",
      " -1.0211194  -1.1106079  -1.57091696 -0.98102171 -1.05821166 -2.09298512\n",
      " -1.42738931 -1.26117302 -1.31535133 -0.91597877 -1.01907183 -1.10471232\n",
      " -1.0211194  -1.18688797 -1.39361728 -1.04819757 -1.09885197 -1.03920319\n",
      " -1.01697652 -1.20654559 -0.95323455 -1.57303089 -0.92260666 -1.04822434\n",
      " -1.58292565 -1.22530221 -1.10096896 -1.03605579 -1.9440761  -1.04909002\n",
      " -0.99779316 -1.02451027 -1.16320096 -1.01471483 -0.989643   -1.35365975\n",
      " -0.88736199 -0.9764065  -1.08770328 -1.02362399 -1.12139269 -1.15633258\n",
      " -0.96597909 -1.58434192 -0.99442612 -1.08435642 -0.974005   -1.00459248\n",
      " -1.08389192 -0.96097099 -1.09963013 -1.11521472 -1.04336144 -0.99746623\n",
      " -1.08949511 -1.03275719 -1.01851314 -1.55585626 -1.15537167 -1.05221173\n",
      " -0.90413053 -1.10382944 -1.42767328 -0.91799902 -1.25594963 -0.97272702\n",
      " -1.08341889 -1.21379847 -1.16419474 -1.2346953  -2.58679351 -1.3143905\n",
      " -1.07148699 -1.33274641 -1.44332831 -1.43082554 -1.06707619 -1.07336531\n",
      " -1.08427026 -1.00550817 -0.94590716 -1.28296444 -1.67980229 -1.12325928\n",
      " -0.9567426  -1.12303621 -1.36403399 -1.0363459  -0.98160302 -1.16388509\n",
      " -0.98498206 -1.00643236 -1.17179284 -0.95053936 -1.10489114 -1.38565781\n",
      " -1.16346722 -0.99413465 -1.24689691 -1.19512606 -1.15319365 -1.00826135\n",
      " -0.97247638 -1.1052239  -0.93204613 -1.36760056 -0.97272702 -0.98679475\n",
      " -1.03890539 -0.94701041 -0.936807   -0.97212025 -1.01116254 -1.03441276]\n"
     ]
    }
   ],
   "source": [
    "print(lof.negative_outlier_factor_)"
   ]
  },
  {
   "cell_type": "markdown",
   "metadata": {},
   "source": [
    "By looking at the negative local outlier factors above, as well as the labels, you might guess what threshold is used to label a point anomalous (remember that this will be a LOF value greater than 1, but it's not always clear what it should be). We can find the threshold that was used by viewing the offset attribute:"
   ]
  },
  {
   "cell_type": "code",
   "execution_count": 123,
   "metadata": {},
   "outputs": [
    {
     "data": {
      "text/plain": [
       "-1.5"
      ]
     },
     "execution_count": 123,
     "metadata": {},
     "output_type": "execute_result"
    }
   ],
   "source": [
    "lof.offset_"
   ]
  },
  {
   "cell_type": "markdown",
   "metadata": {},
   "source": [
    "So we see that a local outlier score of 1.5 or greater indicates that a data point is an anomaly. This is the default. We can also set a fraction of outliers to find, and we will get a different threshold. For example, suppose we assume that 10% our our data are anomalies. We can find the 10% of the data with highest LOF values by setting the \"contamination\" parameter to 10%."
   ]
  },
  {
   "cell_type": "code",
   "execution_count": 124,
   "metadata": {},
   "outputs": [
    {
     "name": "stdout",
     "output_type": "stream",
     "text": [
      "[ 1  1  1  1  1  1  1  1  1  1  1  1  1 -1 -1 -1  1  1  1  1  1  1 -1  1\n",
      " -1  1  1  1  1  1  1  1  1 -1  1  1  1  1  1  1  1 -1  1 -1 -1  1  1  1\n",
      "  1  1  1  1  1  1  1  1  1 -1  1  1 -1  1  1  1  1  1  1  1 -1  1  1  1\n",
      "  1  1  1  1  1  1  1  1  1  1  1  1  1  1  1  1  1  1  1  1  1 -1  1  1\n",
      "  1  1 -1  1  1  1  1  1  1  1 -1  1  1  1  1  1  1  1  1  1  1  1  1  1\n",
      "  1  1  1  1  1  1  1  1  1  1  1  1  1  1  1  1  1  1  1  1  1  1  1  1\n",
      "  1  1  1  1  1  1]\n"
     ]
    }
   ],
   "source": [
    "lof = LocalOutlierFactor(n_neighbors = 10, contamination=0.1)\n",
    "anomaly_predictions = lof.fit_predict(X)\n",
    "print(anomaly_predictions)"
   ]
  },
  {
   "cell_type": "code",
   "execution_count": 125,
   "metadata": {},
   "outputs": [
    {
     "name": "stdout",
     "output_type": "stream",
     "text": [
      "15\n"
     ]
    }
   ],
   "source": [
    "print(sum(anomaly_predictions==-1))"
   ]
  },
  {
   "cell_type": "markdown",
   "metadata": {},
   "source": [
    "Notice that even though we used the same number of nearest neighbors, the number of anomalies has changed. Let's see what the threshold LOF value is now:"
   ]
  },
  {
   "cell_type": "code",
   "execution_count": 126,
   "metadata": {},
   "outputs": [
    {
     "data": {
      "text/plain": [
       "-1.2762174320959443"
      ]
     },
     "execution_count": 126,
     "metadata": {},
     "output_type": "execute_result"
    }
   ],
   "source": [
    "lof.offset_"
   ]
  },
  {
   "cell_type": "markdown",
   "metadata": {},
   "source": [
    "As expected, it is a smaller LOF value than before."
   ]
  },
  {
   "cell_type": "markdown",
   "metadata": {},
   "source": [
    "Let's look at another example applied to an outlier detection data set called the 'shuttle' data set"
   ]
  },
  {
   "cell_type": "code",
   "execution_count": 130,
   "metadata": {},
   "outputs": [],
   "source": [
    "import scipy.io as sio\n",
    "X = sio.loadmat('shuttle.mat')['X']\n",
    "y = sio.loadmat('shuttle.mat')['y']"
   ]
  },
  {
   "cell_type": "code",
   "execution_count": 133,
   "metadata": {},
   "outputs": [
    {
     "name": "stdout",
     "output_type": "stream",
     "text": [
      "[[1]\n",
      " [0]\n",
      " [0]\n",
      " ...\n",
      " [0]\n",
      " [1]\n",
      " [0]]\n"
     ]
    }
   ],
   "source": [
    "print(y)"
   ]
  },
  {
   "cell_type": "code",
   "execution_count": 131,
   "metadata": {},
   "outputs": [
    {
     "data": {
      "text/plain": [
       "(49097, 9)"
      ]
     },
     "execution_count": 131,
     "metadata": {},
     "output_type": "execute_result"
    }
   ],
   "source": [
    "X.shape"
   ]
  },
  {
   "cell_type": "code",
   "execution_count": 129,
   "metadata": {},
   "outputs": [],
   "source": [
    "lof = LocalOutlierFactor(n_neighbors = 5)\n",
    "lof_predictions = lof.fit_predict(X)\n",
    "\n",
    "iforest_predictions = IsolationForest(random_state=0).fit_predict(X)\n",
    "\n",
    "ocsvm_predictions = OneClassSVM(gamma='auto').fit_predict(X)"
   ]
  },
  {
   "cell_type": "code",
   "execution_count": 136,
   "metadata": {},
   "outputs": [],
   "source": [
    "lof_predictions[lof_predictions==1] = 0\n",
    "lof_predictions[lof_predictions==-1] = 1\n",
    "\n",
    "iforest_predictions[iforest_predictions==1] = 0\n",
    "iforest_predictions[iforest_predictions==-1] = 1\n",
    "\n",
    "ocsvm_predictions[ocsvm_predictions==1] = 0\n",
    "ocsvm_predictions[ocsvm_predictions==-1] = 1"
   ]
  },
  {
   "cell_type": "code",
   "execution_count": 135,
   "metadata": {},
   "outputs": [
    {
     "data": {
      "text/plain": [
       "0.9000549931767725"
      ]
     },
     "execution_count": 135,
     "metadata": {},
     "output_type": "execute_result"
    }
   ],
   "source": [
    "from sklearn.metrics import accuracy_score\n",
    "accuracy_score(lof_predictions, y)"
   ]
  },
  {
   "cell_type": "code",
   "execution_count": 138,
   "metadata": {},
   "outputs": [
    {
     "data": {
      "text/plain": [
       "0.5398700531600709"
      ]
     },
     "execution_count": 138,
     "metadata": {},
     "output_type": "execute_result"
    }
   ],
   "source": [
    "accuracy_score(ocsvm_predictions, y)"
   ]
  },
  {
   "cell_type": "code",
   "execution_count": 139,
   "metadata": {},
   "outputs": [
    {
     "data": {
      "text/plain": [
       "0.9676151292339654"
      ]
     },
     "execution_count": 139,
     "metadata": {},
     "output_type": "execute_result"
    }
   ],
   "source": [
    "accuracy_score(iforest_predictions, y)"
   ]
  },
  {
   "cell_type": "code",
   "execution_count": 144,
   "metadata": {},
   "outputs": [
    {
     "data": {
      "text/plain": [
       "24702"
      ]
     },
     "execution_count": 144,
     "metadata": {},
     "output_type": "execute_result"
    }
   ],
   "source": [
    "sum(ocsvm_predictions[ocsvm_predictions==1])"
   ]
  },
  {
   "cell_type": "code",
   "execution_count": 145,
   "metadata": {},
   "outputs": [
    {
     "data": {
      "text/plain": [
       "0"
      ]
     },
     "execution_count": 145,
     "metadata": {},
     "output_type": "execute_result"
    }
   ],
   "source": [
    "sum(lof_predictions[lof_predictions==1])"
   ]
  },
  {
   "cell_type": "code",
   "execution_count": 146,
   "metadata": {},
   "outputs": [
    {
     "data": {
      "text/plain": [
       "5005"
      ]
     },
     "execution_count": 146,
     "metadata": {},
     "output_type": "execute_result"
    }
   ],
   "source": [
    "sum(iforest_predictions[iforest_predictions==1])"
   ]
  },
  {
   "cell_type": "markdown",
   "metadata": {},
   "source": [
    "It's important to note that we can gett a high accuracy even if NO anomalies are detected!"
   ]
  },
  {
   "cell_type": "code",
   "execution_count": null,
   "metadata": {},
   "outputs": [],
   "source": []
  }
 ],
 "metadata": {
  "kernelspec": {
   "display_name": "Python 3",
   "language": "python",
   "name": "python3"
  },
  "language_info": {
   "codemirror_mode": {
    "name": "ipython",
    "version": 3
   },
   "file_extension": ".py",
   "mimetype": "text/x-python",
   "name": "python",
   "nbconvert_exporter": "python",
   "pygments_lexer": "ipython3",
   "version": "3.7.1"
  }
 },
 "nbformat": 4,
 "nbformat_minor": 2
}
